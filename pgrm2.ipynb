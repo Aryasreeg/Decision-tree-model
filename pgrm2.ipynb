{
  "cells": [
    {
      "cell_type": "markdown",
      "metadata": {
        "id": "view-in-github",
        "colab_type": "text"
      },
      "source": [
        "<a href=\"https://colab.research.google.com/github/Aryasreeg/Decision-tree-model/blob/main/pgrm2.ipynb\" target=\"_parent\"><img src=\"https://colab.research.google.com/assets/colab-badge.svg\" alt=\"Open In Colab\"/></a>"
      ]
    },
    {
      "cell_type": "code",
      "execution_count": null,
      "id": "b3b2817f",
      "metadata": {
        "id": "b3b2817f"
      },
      "outputs": [],
      "source": [
        "import pandas as pd\n",
        "import numpy as np\n",
        "import matplotlib as plt"
      ]
    },
    {
      "cell_type": "code",
      "execution_count": null,
      "id": "93d5e185",
      "metadata": {
        "id": "93d5e185"
      },
      "outputs": [],
      "source": [
        "from sklearn import tree\n",
        "from sklearn.tree import DecisionTreeClassifier\n",
        "from sklearn.model_selection import train_test_split\n",
        "\n",
        "from sklearn import metrics\n",
        "from sklearn.metrics import accuracy_score\n"
      ]
    },
    {
      "cell_type": "code",
      "execution_count": null,
      "id": "a7920e4a",
      "metadata": {
        "id": "a7920e4a"
      },
      "outputs": [],
      "source": [
        "dataset=pd.read_csv('diabetes - Copy.csv')"
      ]
    },
    {
      "cell_type": "code",
      "execution_count": null,
      "id": "28290113",
      "metadata": {
        "id": "28290113",
        "outputId": "abb343a2-ebb8-464e-85f3-b2ff978c58d2"
      },
      "outputs": [
        {
          "data": {
            "text/html": [
              "<div>\n",
              "<style scoped>\n",
              "    .dataframe tbody tr th:only-of-type {\n",
              "        vertical-align: middle;\n",
              "    }\n",
              "\n",
              "    .dataframe tbody tr th {\n",
              "        vertical-align: top;\n",
              "    }\n",
              "\n",
              "    .dataframe thead th {\n",
              "        text-align: right;\n",
              "    }\n",
              "</style>\n",
              "<table border=\"1\" class=\"dataframe\">\n",
              "  <thead>\n",
              "    <tr style=\"text-align: right;\">\n",
              "      <th></th>\n",
              "      <th>Pregnancies</th>\n",
              "      <th>Glucose</th>\n",
              "      <th>BloodPressure</th>\n",
              "      <th>SkinThickness</th>\n",
              "      <th>Insulin</th>\n",
              "      <th>BMI</th>\n",
              "      <th>DiabetesPedigreeFunction</th>\n",
              "      <th>Age</th>\n",
              "      <th>Outcome</th>\n",
              "    </tr>\n",
              "  </thead>\n",
              "  <tbody>\n",
              "    <tr>\n",
              "      <th>0</th>\n",
              "      <td>6</td>\n",
              "      <td>148</td>\n",
              "      <td>72</td>\n",
              "      <td>35</td>\n",
              "      <td>0</td>\n",
              "      <td>33.6</td>\n",
              "      <td>0.627</td>\n",
              "      <td>50</td>\n",
              "      <td>1</td>\n",
              "    </tr>\n",
              "    <tr>\n",
              "      <th>1</th>\n",
              "      <td>1</td>\n",
              "      <td>85</td>\n",
              "      <td>66</td>\n",
              "      <td>29</td>\n",
              "      <td>0</td>\n",
              "      <td>26.6</td>\n",
              "      <td>0.351</td>\n",
              "      <td>31</td>\n",
              "      <td>0</td>\n",
              "    </tr>\n",
              "    <tr>\n",
              "      <th>2</th>\n",
              "      <td>8</td>\n",
              "      <td>183</td>\n",
              "      <td>64</td>\n",
              "      <td>0</td>\n",
              "      <td>0</td>\n",
              "      <td>23.3</td>\n",
              "      <td>0.672</td>\n",
              "      <td>32</td>\n",
              "      <td>1</td>\n",
              "    </tr>\n",
              "    <tr>\n",
              "      <th>3</th>\n",
              "      <td>1</td>\n",
              "      <td>89</td>\n",
              "      <td>66</td>\n",
              "      <td>23</td>\n",
              "      <td>94</td>\n",
              "      <td>28.1</td>\n",
              "      <td>0.167</td>\n",
              "      <td>21</td>\n",
              "      <td>0</td>\n",
              "    </tr>\n",
              "    <tr>\n",
              "      <th>4</th>\n",
              "      <td>0</td>\n",
              "      <td>137</td>\n",
              "      <td>40</td>\n",
              "      <td>35</td>\n",
              "      <td>168</td>\n",
              "      <td>43.1</td>\n",
              "      <td>2.288</td>\n",
              "      <td>33</td>\n",
              "      <td>1</td>\n",
              "    </tr>\n",
              "  </tbody>\n",
              "</table>\n",
              "</div>"
            ],
            "text/plain": [
              "   Pregnancies  Glucose  BloodPressure  SkinThickness  Insulin   BMI  \\\n",
              "0            6      148             72             35        0  33.6   \n",
              "1            1       85             66             29        0  26.6   \n",
              "2            8      183             64              0        0  23.3   \n",
              "3            1       89             66             23       94  28.1   \n",
              "4            0      137             40             35      168  43.1   \n",
              "\n",
              "   DiabetesPedigreeFunction  Age  Outcome  \n",
              "0                     0.627   50        1  \n",
              "1                     0.351   31        0  \n",
              "2                     0.672   32        1  \n",
              "3                     0.167   21        0  \n",
              "4                     2.288   33        1  "
            ]
          },
          "execution_count": 96,
          "metadata": {},
          "output_type": "execute_result"
        }
      ],
      "source": [
        "dataset.head()"
      ]
    },
    {
      "cell_type": "code",
      "execution_count": null,
      "id": "153117b8",
      "metadata": {
        "id": "153117b8"
      },
      "outputs": [],
      "source": [
        "col_names=['preg','glucose','BP','Skin','Insulin','BMI','pedfn','age','label']"
      ]
    },
    {
      "cell_type": "code",
      "execution_count": null,
      "id": "a29f85a3",
      "metadata": {
        "id": "a29f85a3"
      },
      "outputs": [],
      "source": [
        "dataset.columns=col_names"
      ]
    },
    {
      "cell_type": "code",
      "execution_count": null,
      "id": "9768f724",
      "metadata": {
        "id": "9768f724",
        "outputId": "ebf30897-5f91-4818-81f4-a6778b052ab7"
      },
      "outputs": [
        {
          "data": {
            "text/html": [
              "<div>\n",
              "<style scoped>\n",
              "    .dataframe tbody tr th:only-of-type {\n",
              "        vertical-align: middle;\n",
              "    }\n",
              "\n",
              "    .dataframe tbody tr th {\n",
              "        vertical-align: top;\n",
              "    }\n",
              "\n",
              "    .dataframe thead th {\n",
              "        text-align: right;\n",
              "    }\n",
              "</style>\n",
              "<table border=\"1\" class=\"dataframe\">\n",
              "  <thead>\n",
              "    <tr style=\"text-align: right;\">\n",
              "      <th></th>\n",
              "      <th>preg</th>\n",
              "      <th>glucose</th>\n",
              "      <th>BP</th>\n",
              "      <th>Skin</th>\n",
              "      <th>Insulin</th>\n",
              "      <th>BMI</th>\n",
              "      <th>pedfn</th>\n",
              "      <th>age</th>\n",
              "      <th>label</th>\n",
              "    </tr>\n",
              "  </thead>\n",
              "  <tbody>\n",
              "    <tr>\n",
              "      <th>0</th>\n",
              "      <td>6</td>\n",
              "      <td>148</td>\n",
              "      <td>72</td>\n",
              "      <td>35</td>\n",
              "      <td>0</td>\n",
              "      <td>33.6</td>\n",
              "      <td>0.627</td>\n",
              "      <td>50</td>\n",
              "      <td>1</td>\n",
              "    </tr>\n",
              "    <tr>\n",
              "      <th>1</th>\n",
              "      <td>1</td>\n",
              "      <td>85</td>\n",
              "      <td>66</td>\n",
              "      <td>29</td>\n",
              "      <td>0</td>\n",
              "      <td>26.6</td>\n",
              "      <td>0.351</td>\n",
              "      <td>31</td>\n",
              "      <td>0</td>\n",
              "    </tr>\n",
              "    <tr>\n",
              "      <th>2</th>\n",
              "      <td>8</td>\n",
              "      <td>183</td>\n",
              "      <td>64</td>\n",
              "      <td>0</td>\n",
              "      <td>0</td>\n",
              "      <td>23.3</td>\n",
              "      <td>0.672</td>\n",
              "      <td>32</td>\n",
              "      <td>1</td>\n",
              "    </tr>\n",
              "    <tr>\n",
              "      <th>3</th>\n",
              "      <td>1</td>\n",
              "      <td>89</td>\n",
              "      <td>66</td>\n",
              "      <td>23</td>\n",
              "      <td>94</td>\n",
              "      <td>28.1</td>\n",
              "      <td>0.167</td>\n",
              "      <td>21</td>\n",
              "      <td>0</td>\n",
              "    </tr>\n",
              "    <tr>\n",
              "      <th>4</th>\n",
              "      <td>0</td>\n",
              "      <td>137</td>\n",
              "      <td>40</td>\n",
              "      <td>35</td>\n",
              "      <td>168</td>\n",
              "      <td>43.1</td>\n",
              "      <td>2.288</td>\n",
              "      <td>33</td>\n",
              "      <td>1</td>\n",
              "    </tr>\n",
              "  </tbody>\n",
              "</table>\n",
              "</div>"
            ],
            "text/plain": [
              "   preg  glucose  BP  Skin  Insulin   BMI  pedfn  age  label\n",
              "0     6      148  72    35        0  33.6  0.627   50      1\n",
              "1     1       85  66    29        0  26.6  0.351   31      0\n",
              "2     8      183  64     0        0  23.3  0.672   32      1\n",
              "3     1       89  66    23       94  28.1  0.167   21      0\n",
              "4     0      137  40    35      168  43.1  2.288   33      1"
            ]
          },
          "execution_count": 99,
          "metadata": {},
          "output_type": "execute_result"
        }
      ],
      "source": [
        "dataset.head()"
      ]
    },
    {
      "cell_type": "code",
      "execution_count": null,
      "id": "3e53e806",
      "metadata": {
        "id": "3e53e806"
      },
      "outputs": [],
      "source": [
        "feature_cols=['preg','glucose','BP','Skin','Insulin','BMI','pedfn','age']"
      ]
    },
    {
      "cell_type": "code",
      "execution_count": null,
      "id": "a0126577",
      "metadata": {
        "id": "a0126577"
      },
      "outputs": [],
      "source": [
        "x=dataset[feature_cols]"
      ]
    },
    {
      "cell_type": "code",
      "execution_count": null,
      "id": "7c165d87",
      "metadata": {
        "id": "7c165d87"
      },
      "outputs": [],
      "source": [
        "y=dataset.label"
      ]
    },
    {
      "cell_type": "code",
      "execution_count": null,
      "id": "60e8abf2",
      "metadata": {
        "id": "60e8abf2"
      },
      "outputs": [],
      "source": [
        "x_train,x_test,y_train,y_test=train_test_split(x,y,test_size=0.2,random_state=42,stratify=y)"
      ]
    },
    {
      "cell_type": "code",
      "execution_count": null,
      "id": "fc5780e4",
      "metadata": {
        "id": "fc5780e4",
        "outputId": "81d34883-0d70-44a1-9aff-6b149c5ed4d1"
      },
      "outputs": [
        {
          "data": {
            "text/plain": [
              "0    0.651466\n",
              "1    0.348534\n",
              "Name: label, dtype: float64"
            ]
          },
          "execution_count": 104,
          "metadata": {},
          "output_type": "execute_result"
        }
      ],
      "source": [
        "y_train.value_counts(normalize=True)"
      ]
    },
    {
      "cell_type": "code",
      "execution_count": null,
      "id": "40f05b61",
      "metadata": {
        "id": "40f05b61",
        "outputId": "b44e6bd4-43c9-493b-d325-97897a1488dd"
      },
      "outputs": [
        {
          "data": {
            "text/plain": [
              "0    0.649351\n",
              "1    0.350649\n",
              "Name: label, dtype: float64"
            ]
          },
          "execution_count": 105,
          "metadata": {},
          "output_type": "execute_result"
        }
      ],
      "source": [
        "y_test.value_counts(normalize=True)"
      ]
    },
    {
      "cell_type": "code",
      "execution_count": null,
      "id": "7e751afa",
      "metadata": {
        "id": "7e751afa",
        "outputId": "4031ed32-f516-43b4-db54-0fecb7ea3a34"
      },
      "outputs": [
        {
          "data": {
            "text/plain": [
              "((614, 8), (614,))"
            ]
          },
          "execution_count": 106,
          "metadata": {},
          "output_type": "execute_result"
        }
      ],
      "source": [
        "x_train.shape,y_train.shape"
      ]
    },
    {
      "cell_type": "code",
      "execution_count": null,
      "id": "c0709a2c",
      "metadata": {
        "id": "c0709a2c",
        "outputId": "5713c0c1-269d-4ba2-cc10-8f20e834e734"
      },
      "outputs": [
        {
          "data": {
            "text/plain": [
              "((154, 8), (154,))"
            ]
          },
          "execution_count": 107,
          "metadata": {},
          "output_type": "execute_result"
        }
      ],
      "source": [
        "x_test.shape,y_test.shape"
      ]
    },
    {
      "cell_type": "code",
      "execution_count": null,
      "id": "13cf9aa7",
      "metadata": {
        "id": "13cf9aa7"
      },
      "outputs": [],
      "source": [
        "model=DecisionTreeClassifier(criterion='entropy',max_depth=5,random_state=101)"
      ]
    },
    {
      "cell_type": "code",
      "execution_count": null,
      "id": "ca527647",
      "metadata": {
        "id": "ca527647"
      },
      "outputs": [],
      "source": [
        "model=model.fit(x_train,y_train) #to eliminate overfitting and underfitting"
      ]
    },
    {
      "cell_type": "code",
      "execution_count": null,
      "id": "fdd7d37e",
      "metadata": {
        "id": "fdd7d37e"
      },
      "outputs": [],
      "source": [
        "x_train_pred=model.predict(x_train)\n"
      ]
    },
    {
      "cell_type": "code",
      "execution_count": null,
      "id": "ded86d4f",
      "metadata": {
        "id": "ded86d4f",
        "outputId": "d74c3189-08a1-49f0-a638-01da51f46a3f"
      },
      "outputs": [
        {
          "name": "stdout",
          "output_type": "stream",
          "text": [
            "accuracy of training value 0.8127035830618893\n"
          ]
        }
      ],
      "source": [
        "train_acc=accuracy_score(y_train,x_train_pred)\n",
        "print(\"accuracy of training value\",train_acc)"
      ]
    },
    {
      "cell_type": "code",
      "execution_count": null,
      "id": "fb61d446",
      "metadata": {
        "id": "fb61d446"
      },
      "outputs": [],
      "source": [
        "x_test_pred=model.predict(x_test)"
      ]
    },
    {
      "cell_type": "code",
      "execution_count": null,
      "id": "f4ed4b49",
      "metadata": {
        "id": "f4ed4b49",
        "outputId": "4c5a9afc-bb46-4b42-f824-54dea19f0f5d"
      },
      "outputs": [
        {
          "name": "stdout",
          "output_type": "stream",
          "text": [
            "accuracy of training value 0.7987012987012987\n"
          ]
        }
      ],
      "source": [
        "test_acc=accuracy_score(y_test,x_test_pred)\n",
        "print(\"accuracy of training value\",test_acc)"
      ]
    },
    {
      "cell_type": "code",
      "execution_count": null,
      "id": "2b68fb48",
      "metadata": {
        "id": "2b68fb48"
      },
      "outputs": [],
      "source": [
        "y_pred=model.predict(x_test)"
      ]
    },
    {
      "cell_type": "code",
      "execution_count": null,
      "id": "f488d1bb",
      "metadata": {
        "id": "f488d1bb",
        "outputId": "5e692b11-fe91-41ab-91f5-4a06f39deb35"
      },
      "outputs": [
        {
          "name": "stdout",
          "output_type": "stream",
          "text": [
            "accuracy 0.7987012987012987\n"
          ]
        }
      ],
      "source": [
        "print(\"accuracy\", metrics.accuracy_score(y_test,y_pred))"
      ]
    },
    {
      "cell_type": "code",
      "execution_count": null,
      "id": "30a1056f",
      "metadata": {
        "id": "30a1056f",
        "outputId": "d2548564-e96a-44ba-ba7a-12eba2eedebe"
      },
      "outputs": [
        {
          "data": {
            "text/plain": [
              "[Text(169.93636363636367, 199.32, 'X[1] <= 154.5\\nentropy = 0.933\\nsamples = 614\\nvalue = [400, 214]'),\n",
              " Text(71.01818181818183, 163.07999999999998, 'X[5] <= 26.75\\nentropy = 0.818\\nsamples = 515\\nvalue = [384, 131]'),\n",
              " Text(20.290909090909093, 126.83999999999999, 'X[0] <= 2.5\\nentropy = 0.244\\nsamples = 124\\nvalue = [119, 5]'),\n",
              " Text(10.145454545454546, 90.6, 'entropy = 0.0\\nsamples = 70\\nvalue = [70, 0]'),\n",
              " Text(30.436363636363637, 90.6, 'X[3] <= 14.0\\nentropy = 0.445\\nsamples = 54\\nvalue = [49, 5]'),\n",
              " Text(20.290909090909093, 54.359999999999985, 'X[6] <= 0.22\\nentropy = 0.625\\nsamples = 32\\nvalue = [27, 5]'),\n",
              " Text(10.145454545454546, 18.119999999999976, 'entropy = 0.0\\nsamples = 12\\nvalue = [12, 0]'),\n",
              " Text(30.436363636363637, 18.119999999999976, 'entropy = 0.811\\nsamples = 20\\nvalue = [15, 5]'),\n",
              " Text(40.581818181818186, 54.359999999999985, 'entropy = 0.0\\nsamples = 22\\nvalue = [22, 0]'),\n",
              " Text(121.74545454545455, 126.83999999999999, 'X[7] <= 30.5\\nentropy = 0.907\\nsamples = 391\\nvalue = [265, 126]'),\n",
              " Text(81.16363636363637, 90.6, 'X[1] <= 127.5\\nentropy = 0.729\\nsamples = 211\\nvalue = [168, 43]'),\n",
              " Text(60.872727272727275, 54.359999999999985, 'X[5] <= 45.4\\nentropy = 0.567\\nsamples = 165\\nvalue = [143, 22]'),\n",
              " Text(50.727272727272734, 18.119999999999976, 'entropy = 0.507\\nsamples = 160\\nvalue = [142, 18]'),\n",
              " Text(71.01818181818183, 18.119999999999976, 'entropy = 0.722\\nsamples = 5\\nvalue = [1, 4]'),\n",
              " Text(101.45454545454547, 54.359999999999985, 'X[2] <= 73.0\\nentropy = 0.995\\nsamples = 46\\nvalue = [25, 21]'),\n",
              " Text(91.30909090909091, 18.119999999999976, 'entropy = 0.931\\nsamples = 26\\nvalue = [9, 17]'),\n",
              " Text(111.60000000000001, 18.119999999999976, 'entropy = 0.722\\nsamples = 20\\nvalue = [16, 4]'),\n",
              " Text(162.32727272727274, 90.6, 'X[1] <= 107.5\\nentropy = 0.996\\nsamples = 180\\nvalue = [97, 83]'),\n",
              " Text(142.03636363636366, 54.359999999999985, 'X[6] <= 0.636\\nentropy = 0.866\\nsamples = 66\\nvalue = [47, 19]'),\n",
              " Text(131.8909090909091, 18.119999999999976, 'entropy = 0.696\\nsamples = 48\\nvalue = [39, 9]'),\n",
              " Text(152.1818181818182, 18.119999999999976, 'entropy = 0.991\\nsamples = 18\\nvalue = [8, 10]'),\n",
              " Text(182.61818181818182, 54.359999999999985, 'X[5] <= 45.4\\nentropy = 0.989\\nsamples = 114\\nvalue = [50, 64]'),\n",
              " Text(172.4727272727273, 18.119999999999976, 'entropy = 0.998\\nsamples = 106\\nvalue = [50, 56]'),\n",
              " Text(192.76363636363638, 18.119999999999976, 'entropy = 0.0\\nsamples = 8\\nvalue = [0, 8]'),\n",
              " Text(268.8545454545455, 163.07999999999998, 'X[5] <= 23.1\\nentropy = 0.638\\nsamples = 99\\nvalue = [16, 83]'),\n",
              " Text(258.70909090909095, 126.83999999999999, 'entropy = 0.0\\nsamples = 2\\nvalue = [2, 0]'),\n",
              " Text(279.0, 126.83999999999999, 'X[0] <= 6.5\\nentropy = 0.595\\nsamples = 97\\nvalue = [14, 83]'),\n",
              " Text(243.4909090909091, 90.6, 'X[1] <= 166.5\\nentropy = 0.722\\nsamples = 65\\nvalue = [13, 52]'),\n",
              " Text(223.20000000000002, 54.359999999999985, 'X[6] <= 0.641\\nentropy = 0.918\\nsamples = 24\\nvalue = [8, 16]'),\n",
              " Text(213.05454545454546, 18.119999999999976, 'entropy = 0.991\\nsamples = 18\\nvalue = [8, 10]'),\n",
              " Text(233.34545454545457, 18.119999999999976, 'entropy = 0.0\\nsamples = 6\\nvalue = [0, 6]'),\n",
              " Text(263.7818181818182, 54.359999999999985, 'X[2] <= 93.0\\nentropy = 0.535\\nsamples = 41\\nvalue = [5, 36]'),\n",
              " Text(253.63636363636365, 18.119999999999976, 'entropy = 0.391\\nsamples = 39\\nvalue = [3, 36]'),\n",
              " Text(273.92727272727274, 18.119999999999976, 'entropy = 0.0\\nsamples = 2\\nvalue = [2, 0]'),\n",
              " Text(314.50909090909096, 90.6, 'X[6] <= 0.206\\nentropy = 0.201\\nsamples = 32\\nvalue = [1, 31]'),\n",
              " Text(304.3636363636364, 54.359999999999985, 'X[0] <= 9.5\\nentropy = 0.65\\nsamples = 6\\nvalue = [1, 5]'),\n",
              " Text(294.21818181818185, 18.119999999999976, 'entropy = 0.0\\nsamples = 5\\nvalue = [0, 5]'),\n",
              " Text(314.50909090909096, 18.119999999999976, 'entropy = 0.0\\nsamples = 1\\nvalue = [1, 0]'),\n",
              " Text(324.6545454545455, 54.359999999999985, 'entropy = 0.0\\nsamples = 26\\nvalue = [0, 26]')]"
            ]
          },
          "execution_count": 116,
          "metadata": {},
          "output_type": "execute_result"
        },
        {
          "data": {
            "image/png": "[encoded data removed]",
            "text/plain": [
              "<Figure size 432x288 with 1 Axes>"
            ]
          },
          "metadata": {
            "needs_background": "light"
          },
          "output_type": "display_data"
        }
      ],
      "source": [
        "tree.plot_tree(model)"
      ]
    },
    {
      "cell_type": "code",
      "execution_count": null,
      "id": "f1c651df",
      "metadata": {
        "scrolled": false,
        "id": "f1c651df",
        "outputId": "6eeb6b0b-7537-4366-9f96-a0bbc6b6c9a3"
      },
      "outputs": [
        {
          "name": "stdout",
          "output_type": "stream",
          "text": [
            "Collecting package metadata (current_repodata.json): ...working... done\n",
            "Solving environment: ...working... done\n",
            "\n",
            "# All requested packages already installed.\n",
            "\n",
            "\n",
            "Note: you may need to restart the kernel to use updated packages.\n"
          ]
        }
      ],
      "source": [
        "conda install python-graphviz"
      ]
    },
    {
      "cell_type": "code",
      "execution_count": null,
      "id": "0a824146",
      "metadata": {
        "id": "0a824146",
        "outputId": "fff21fec-3192-4eb0-ac19-460dafb799ff"
      },
      "outputs": [
        {
          "data": {
            "text/plain": [
              "'Diabetes.pdf'"
            ]
          },
          "execution_count": 118,
          "metadata": {},
          "output_type": "execute_result"
        }
      ],
      "source": [
        "import graphviz\n",
        "dot_data = tree.export_graphviz(model, out_file=None) \n",
        "graph = graphviz.Source(dot_data) \n",
        "graph.render(\"Diabetes\") "
      ]
    },
    {
      "cell_type": "code",
      "execution_count": null,
      "id": "6c3ab750",
      "metadata": {
        "id": "6c3ab750"
      },
      "outputs": [],
      "source": [
        "input_data=(1,89,66,23,94,28.1,0.167,21)#vlaues for each column for each attribute\n",
        "input_data_as_numpy_array=np.asarray(input_data)"
      ]
    },
    {
      "cell_type": "code",
      "execution_count": null,
      "id": "d2dbcfdd",
      "metadata": {
        "id": "d2dbcfdd"
      },
      "outputs": [],
      "source": [
        "input_data_reshaped=input_data_as_numpy_array.reshape(1,-1)"
      ]
    },
    {
      "cell_type": "code",
      "execution_count": null,
      "id": "102715f8",
      "metadata": {
        "id": "102715f8",
        "outputId": "5c0bc554-25d8-4802-a877-20df08e91b72"
      },
      "outputs": [
        {
          "name": "stdout",
          "output_type": "stream",
          "text": [
            "not Diabetic\n"
          ]
        }
      ],
      "source": [
        "prediction=model.predict(input_data_reshaped)\n",
        "if prediction[0]==0:\n",
        "    print(\"not Diabetic\")\n",
        "else:\n",
        "    print(\"Diabetic!!\")"
      ]
    }
  ],
  "metadata": {
    "kernelspec": {
      "display_name": "Python 3",
      "language": "python",
      "name": "python3"
    },
    "language_info": {
      "codemirror_mode": {
        "name": "ipython",
        "version": 3
      },
      "file_extension": ".py",
      "mimetype": "text/x-python",
      "name": "python",
      "nbconvert_exporter": "python",
      "pygments_lexer": "ipython3",
      "version": "3.8.8"
    },
    "colab": {
      "name": "pgrm2.ipynb",
      "provenance": [],
      "include_colab_link": true
    }
  },
  "nbformat": 4,
  "nbformat_minor": 5
}